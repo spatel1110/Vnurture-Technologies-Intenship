{
 "cells": [
  {
   "cell_type": "markdown",
   "id": "31f5ffd3",
   "metadata": {},
   "source": [
    " List ,Tuple, Dictionary"
   ]
  },
  {
   "cell_type": "code",
   "execution_count": 1,
   "id": "1ec225a6",
   "metadata": {},
   "outputs": [
    {
     "data": {
      "text/plain": [
       "30"
      ]
     },
     "execution_count": 1,
     "metadata": {},
     "output_type": "execute_result"
    }
   ],
   "source": [
    "# Create Following list and Apply some Operation.\n",
    "# QUESTION 1\n",
    "L1 = [1,2,3,4, [\"python\",\"java\",\"c++\",(10,20,30)],5,6,7,[\"apple\",\"banana\",\"orange\"]]\n",
    "L1[4][3][2]"
   ]
  },
  {
   "cell_type": "code",
   "execution_count": 2,
   "id": "c7fa04cc",
   "metadata": {},
   "outputs": [
    {
     "data": {
      "text/plain": [
       "'e'"
      ]
     },
     "execution_count": 2,
     "metadata": {},
     "output_type": "execute_result"
    }
   ],
   "source": [
    "L1[8][2][5]"
   ]
  },
  {
   "cell_type": "code",
   "execution_count": 3,
   "id": "38482e68",
   "metadata": {},
   "outputs": [
    {
     "data": {
      "text/plain": [
       "'o'"
      ]
     },
     "execution_count": 3,
     "metadata": {},
     "output_type": "execute_result"
    }
   ],
   "source": [
    "L1[4][0][4]"
   ]
  },
  {
   "cell_type": "code",
   "execution_count": 4,
   "id": "3dad977a",
   "metadata": {},
   "outputs": [
    {
     "data": {
      "text/plain": [
       "'o'"
      ]
     },
     "execution_count": 4,
     "metadata": {},
     "output_type": "execute_result"
    }
   ],
   "source": [
    "# QUESTION 2\n",
    "t1=(1,2,3,['hello',10,20,30,\"world\"],4,5,6,(\"one\",\"two\",100,200,300))\n",
    "t1[7][1][2]"
   ]
  },
  {
   "cell_type": "code",
   "execution_count": 5,
   "id": "e5c746b9",
   "metadata": {},
   "outputs": [
    {
     "data": {
      "text/plain": [
       "'r'"
      ]
     },
     "execution_count": 5,
     "metadata": {},
     "output_type": "execute_result"
    }
   ],
   "source": [
    "t1[3][4][2]"
   ]
  },
  {
   "cell_type": "code",
   "execution_count": 6,
   "id": "054e0389",
   "metadata": {},
   "outputs": [
    {
     "data": {
      "text/plain": [
       "5"
      ]
     },
     "execution_count": 6,
     "metadata": {},
     "output_type": "execute_result"
    }
   ],
   "source": [
    "t1[5]"
   ]
  },
  {
   "cell_type": "code",
   "execution_count": 7,
   "id": "7a6f997a",
   "metadata": {},
   "outputs": [
    {
     "name": "stdout",
     "output_type": "stream",
     "text": [
      "{'t': 2, 'h': 1, 'i': 3, 's': 3, ' ': 2, 'r': 1, 'n': 1, 'g': 1}\n"
     ]
    }
   ],
   "source": [
    "# QUESTION 3\n",
    "# Write a Python program to create a dictionary from a string. Note: Track the count of the\n",
    "# letters from the string.\n",
    "# Sample string: 'this is string'\n",
    "arr = \"this is string\"\n",
    "dict = {}\n",
    "for i in arr:\n",
    "    if i in dict:\n",
    "        dict[i] += 1\n",
    "    else:\n",
    "        dict[i] = 1\n",
    "count = str(dict)\n",
    "print(count)"
   ]
  },
  {
   "cell_type": "markdown",
   "id": "239f90a8",
   "metadata": {},
   "source": [
    "Condition and Looping"
   ]
  },
  {
   "cell_type": "code",
   "execution_count": 8,
   "id": "2f8b6226",
   "metadata": {},
   "outputs": [
    {
     "name": "stdout",
     "output_type": "stream",
     "text": [
      "Enter the value of marks \n",
      "85\n",
      "Your Grade for 85.0 marks is : Grade A\n"
     ]
    }
   ],
   "source": [
    "# 1. Enter the student marks: if marks >=70 grade are 'A'\n",
    "# marks between 60 and 70 grades are 'B'\n",
    "# marks between 50 and 60 grades are 'C'\n",
    "# marks between 40 and 50 grades are 'D'\n",
    "# otherwise grade is 'E'\n",
    "n = float(input(\"Enter the value of marks \\n\"))\n",
    "if n > 100:\n",
    "    print(\"Enter the valid marks\")\n",
    "elif n >= 70:\n",
    "    print(f\"Your Grade for {n} marks is : Grade A\")\n",
    "elif 70 < n < 60:\n",
    "    print(f\"Your Grade for {n} marks is : Grade B\")\n",
    "elif 60 < n < 50:\n",
    "    print(f\"Your Grade for {n} marks is : Grade C\")\n",
    "elif 50 < n < 40:\n",
    "    print(f\"Your Grade for {n} marks is : Grade D\")\n",
    "else:\n",
    "    print(f\"Your Grade for {n} marks is : Grade E\")\n"
   ]
  },
  {
   "cell_type": "code",
   "execution_count": 9,
   "id": "8b2b50cd",
   "metadata": {},
   "outputs": [
    {
     "name": "stdout",
     "output_type": "stream",
     "text": [
      "\n",
      "p\n",
      "py\n",
      "pyt\n",
      "pyth\n",
      "pytho\n",
      "python\n",
      "pytho\n",
      "pyth\n",
      "pyt\n",
      "py\n",
      "p\n"
     ]
    }
   ],
   "source": [
    "# 2. Patten Using Python\n",
    "str1 = \"python\"\n",
    "n = len(str1)\n",
    "# Upper Patten\n",
    "for i in range(0,n+1):\n",
    "    for j in range(0,i):\n",
    "        print(str1[j],end=\"\")\n",
    "    print(\"\")\n",
    "# lower Patten\n",
    "for i in range(1,n):\n",
    "    for j in range(n-i):\n",
    "        print(str1[j],end=\"\")\n",
    "    print(\"\")\n",
    "   "
   ]
  },
  {
   "cell_type": "code",
   "execution_count": 10,
   "id": "e8cbe445",
   "metadata": {},
   "outputs": [
    {
     "name": "stdout",
     "output_type": "stream",
     "text": [
      "\n",
      "0  0  0  0  0  0  0  0  0  0  0  \n",
      "0  1  2  3  4  5  6  7  8  9  10  \n",
      "0  2  4  6  8  10  12  14  16  18  20  \n",
      "0  3  6  9  12  15  18  21  24  27  30  \n",
      "0  4  8  12  16  20  24  28  32  36  40  \n",
      "0  5  10  15  20  25  30  35  40  45  50  \n",
      "0  6  12  18  24  30  36  42  48  54  60  \n",
      "0  7  14  21  28  35  42  49  56  63  70  \n",
      "0  8  16  24  32  40  48  56  64  72  80  \n",
      "0  9  18  27  36  45  54  63  72  81  90  \n",
      "0  10  20  30  40  50  60  70  80  90  100  "
     ]
    }
   ],
   "source": [
    "for x in range(0, 11):\n",
    "    print(\"\")\n",
    "    for y in range(0, 11):\n",
    "        print(x * y, end=\"  \")"
   ]
  },
  {
   "cell_type": "markdown",
   "id": "252c0684",
   "metadata": {},
   "source": [
    "File management"
   ]
  },
  {
   "cell_type": "code",
   "execution_count": 23,
   "id": "bb898aa5",
   "metadata": {},
   "outputs": [
    {
     "name": "stdout",
     "output_type": "stream",
     "text": [
      "Enter a number: 12\n",
      "This is an even number.\n",
      "This number will be stroed in even.txt file \n"
     ]
    }
   ],
   "source": [
    "# Question 1 - Create a file program. Find odd or even number. Odd number are Add to odd.txt file. And even\n",
    "# number are stored an even.txt file.\n",
    "num = int(input(\"Enter a number: \"))\n",
    "if num % 2 > 0:\n",
    "    print(\"This is an odd number.\")\n",
    "    print(\"This number will be stroed in odd.txt file \")\n",
    "    file_object = open('odd.txt', 'a')\n",
    "    with open(\"odd.txt\", \"a+\") as file_object:\n",
    "        odd = str(num)\n",
    "        file_object.write(odd)\n",
    "else:\n",
    "    print(\"This is an even number.\")\n",
    "    print(\"This number will be stroed in even.txt file \")\n",
    "    file_object = open('even.txt', 'a')\n",
    "    with open(\"even.txt\", \"a+\") as file_object:\n",
    "        even = str(num)\n",
    "        file_object.write(even)"
   ]
  },
  {
   "cell_type": "code",
   "execution_count": null,
   "id": "aa657098",
   "metadata": {},
   "outputs": [],
   "source": [
    "# Question 2 - Read the names of student from student.txt. Read Two subject marks Marks.txt And create file\n",
    "# named results.txt. in this file store name and total marks of student.\n"
   ]
  }
 ],
 "metadata": {
  "kernelspec": {
   "display_name": "Python 3",
   "language": "python",
   "name": "python3"
  },
  "language_info": {
   "codemirror_mode": {
    "name": "ipython",
    "version": 3
   },
   "file_extension": ".py",
   "mimetype": "text/x-python",
   "name": "python",
   "nbconvert_exporter": "python",
   "pygments_lexer": "ipython3",
   "version": "3.8.8"
  }
 },
 "nbformat": 4,
 "nbformat_minor": 5
}
